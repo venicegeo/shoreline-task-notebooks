{
 "cells": [
  {
   "cell_type": "markdown",
   "metadata": {},
   "source": [
    "Install all the things."
   ]
  },
  {
   "cell_type": "code",
   "execution_count": 1,
   "metadata": {},
   "outputs": [
    {
     "name": "stdout",
     "output_type": "stream",
     "text": [
      "Requirement already satisfied: shapely in /Users/chambbj/miniconda2/lib/python2.7/site-packages\n",
      "Fetching package metadata ...........\n",
      "Solving package specifications: .\n",
      "\n",
      "# All requested packages already installed.\n",
      "# packages in environment at /Users/chambbj/miniconda2/envs/dg-shoreline-task-notebook:\n",
      "#\n",
      "fiona                     1.7.0                    py27_0  \n",
      "Requirement already satisfied: fiona in /Users/chambbj/miniconda2/lib/python2.7/site-packages\n",
      "Requirement already satisfied: cligj in /Users/chambbj/miniconda2/lib/python2.7/site-packages (from fiona)\n",
      "Requirement already satisfied: click-plugins in /Users/chambbj/miniconda2/lib/python2.7/site-packages (from fiona)\n",
      "Requirement already satisfied: enum34 in /Users/chambbj/miniconda2/lib/python2.7/site-packages (from fiona)\n",
      "Requirement already satisfied: munch in /Users/chambbj/miniconda2/lib/python2.7/site-packages (from fiona)\n",
      "Requirement already satisfied: six in /Users/chambbj/miniconda2/lib/python2.7/site-packages (from fiona)\n",
      "Requirement already satisfied: click>=4.0 in /Users/chambbj/miniconda2/lib/python2.7/site-packages (from cligj->fiona)\n",
      "Requirement already satisfied: gbdxtools in /Users/chambbj/miniconda2/lib/python2.7/site-packages\n",
      "Requirement already satisfied: pyproj in /Users/chambbj/miniconda2/lib/python2.7/site-packages (from gbdxtools)\n",
      "Requirement already satisfied: requests==2.12.1 in /Users/chambbj/miniconda2/lib/python2.7/site-packages (from gbdxtools)\n",
      "Requirement already satisfied: gbdx-auth==0.2.4 in /Users/chambbj/miniconda2/lib/python2.7/site-packages (from gbdxtools)\n",
      "Requirement already satisfied: rasterio>=1.0a3 in /Users/chambbj/miniconda2/lib/python2.7/site-packages (from gbdxtools)\n",
      "Requirement already satisfied: dask==0.13.0 in /Users/chambbj/miniconda2/lib/python2.7/site-packages (from gbdxtools)\n",
      "Requirement already satisfied: pycurl in /Users/chambbj/miniconda2/lib/python2.7/site-packages (from gbdxtools)\n",
      "Requirement already satisfied: pygeoif==0.6 in /Users/chambbj/miniconda2/lib/python2.7/site-packages (from gbdxtools)\n",
      "Requirement already satisfied: ephem in /Users/chambbj/miniconda2/lib/python2.7/site-packages (from gbdxtools)\n",
      "Requirement already satisfied: boto==2.39.0 in /Users/chambbj/miniconda2/lib/python2.7/site-packages (from gbdxtools)\n",
      "Requirement already satisfied: geomet==0.1.1 in /Users/chambbj/miniconda2/lib/python2.7/site-packages (from gbdxtools)\n",
      "Requirement already satisfied: future==0.15.2 in /Users/chambbj/miniconda2/lib/python2.7/site-packages (from gbdxtools)\n",
      "Requirement already satisfied: numpy in /Users/chambbj/miniconda2/lib/python2.7/site-packages (from gbdxtools)\n",
      "Requirement already satisfied: six==1.10.0 in /Users/chambbj/miniconda2/lib/python2.7/site-packages (from gbdxtools)\n",
      "Requirement already satisfied: shapely in /Users/chambbj/miniconda2/lib/python2.7/site-packages (from gbdxtools)\n",
      "Requirement already satisfied: cloudpickle in /Users/chambbj/miniconda2/lib/python2.7/site-packages (from gbdxtools)\n",
      "Requirement already satisfied: toolz in /Users/chambbj/miniconda2/lib/python2.7/site-packages (from gbdxtools)\n",
      "Requirement already satisfied: ndg-httpsclient==0.4.2 in /Users/chambbj/miniconda2/lib/python2.7/site-packages (from gbdxtools)\n",
      "Requirement already satisfied: requests-oauthlib==0.8.0 in /Users/chambbj/miniconda2/lib/python2.7/site-packages (from gbdx-auth==0.2.4->gbdxtools)\n",
      "Requirement already satisfied: PyJWT==1.4.2 in /Users/chambbj/miniconda2/lib/python2.7/site-packages (from gbdx-auth==0.2.4->gbdxtools)\n",
      "Requirement already satisfied: oauthlib==2.0.2 in /Users/chambbj/miniconda2/lib/python2.7/site-packages (from gbdx-auth==0.2.4->gbdxtools)\n",
      "Requirement already satisfied: snuggs>=1.4.1 in /Users/chambbj/miniconda2/lib/python2.7/site-packages (from rasterio>=1.0a3->gbdxtools)\n",
      "Requirement already satisfied: enum34 in /Users/chambbj/miniconda2/lib/python2.7/site-packages (from rasterio>=1.0a3->gbdxtools)\n",
      "Requirement already satisfied: click-plugins in /Users/chambbj/miniconda2/lib/python2.7/site-packages (from rasterio>=1.0a3->gbdxtools)\n",
      "Requirement already satisfied: affine in /Users/chambbj/miniconda2/lib/python2.7/site-packages (from rasterio>=1.0a3->gbdxtools)\n",
      "Requirement already satisfied: cligj in /Users/chambbj/miniconda2/lib/python2.7/site-packages (from rasterio>=1.0a3->gbdxtools)\n",
      "Requirement already satisfied: click in /Users/chambbj/miniconda2/lib/python2.7/site-packages (from geomet==0.1.1->gbdxtools)\n",
      "Requirement already satisfied: PyOpenSSL in /Users/chambbj/miniconda2/lib/python2.7/site-packages (from ndg-httpsclient==0.4.2->gbdxtools)\n",
      "Requirement already satisfied: pyparsing in /Users/chambbj/miniconda2/lib/python2.7/site-packages (from snuggs>=1.4.1->rasterio>=1.0a3->gbdxtools)\n",
      "Requirement already satisfied: cryptography>=1.3.4 in /Users/chambbj/miniconda2/lib/python2.7/site-packages (from PyOpenSSL->ndg-httpsclient==0.4.2->gbdxtools)\n",
      "Requirement already satisfied: idna>=2.0 in /Users/chambbj/miniconda2/lib/python2.7/site-packages (from cryptography>=1.3.4->PyOpenSSL->ndg-httpsclient==0.4.2->gbdxtools)\n",
      "Requirement already satisfied: pyasn1>=0.1.8 in /Users/chambbj/miniconda2/lib/python2.7/site-packages (from cryptography>=1.3.4->PyOpenSSL->ndg-httpsclient==0.4.2->gbdxtools)\n",
      "Requirement already satisfied: setuptools>=11.3 in /Users/chambbj/miniconda2/lib/python2.7/site-packages (from cryptography>=1.3.4->PyOpenSSL->ndg-httpsclient==0.4.2->gbdxtools)\n",
      "Requirement already satisfied: ipaddress in /Users/chambbj/miniconda2/lib/python2.7/site-packages (from cryptography>=1.3.4->PyOpenSSL->ndg-httpsclient==0.4.2->gbdxtools)\n",
      "Requirement already satisfied: cffi>=1.4.1 in /Users/chambbj/miniconda2/lib/python2.7/site-packages (from cryptography>=1.3.4->PyOpenSSL->ndg-httpsclient==0.4.2->gbdxtools)\n",
      "Requirement already satisfied: appdirs>=1.4.0 in /Users/chambbj/miniconda2/lib/python2.7/site-packages (from setuptools>=11.3->cryptography>=1.3.4->PyOpenSSL->ndg-httpsclient==0.4.2->gbdxtools)\n",
      "Requirement already satisfied: packaging>=16.8 in /Users/chambbj/miniconda2/lib/python2.7/site-packages (from setuptools>=11.3->cryptography>=1.3.4->PyOpenSSL->ndg-httpsclient==0.4.2->gbdxtools)\n",
      "Requirement already satisfied: pycparser in /Users/chambbj/miniconda2/lib/python2.7/site-packages (from cffi>=1.4.1->cryptography>=1.3.4->PyOpenSSL->ndg-httpsclient==0.4.2->gbdxtools)\n"
     ]
    }
   ],
   "source": [
    "!pip install shapely\n",
    "!conda install --yes --quiet fiona\n",
    "!pip install fiona\n",
    "!pip install gbdxtools"
   ]
  },
  {
   "cell_type": "markdown",
   "metadata": {},
   "source": [
    "And then all the imports and such."
   ]
  },
  {
   "cell_type": "code",
   "execution_count": 2,
   "metadata": {
    "collapsed": true
   },
   "outputs": [],
   "source": [
    "from shapely.geometry import shape\n",
    "from gbdxtools import Interface\n",
    "from shapely.geometry import MultiPolygon\n",
    "from shapely.wkt import loads\n",
    "from shapely.ops import cascaded_union\n",
    "import dateutil.parser\n",
    "from datetime import datetime\n",
    "import uuid\n",
    "from os.path import join\n",
    "import time\n",
    "import sys\n",
    "from __future__ import print_function\n",
    "import fiona\n",
    "import json"
   ]
  },
  {
   "cell_type": "markdown",
   "metadata": {},
   "source": [
    "Load the shapefile, get one of the polygons, and convert to shape."
   ]
  },
  {
   "cell_type": "code",
   "execution_count": 3,
   "metadata": {},
   "outputs": [
    {
     "data": {
      "image/svg+xml": [
       "<svg xmlns=\"http://www.w3.org/2000/svg\" xmlns:xlink=\"http://www.w3.org/1999/xlink\" width=\"100.0\" height=\"100.0\" viewBox=\"-17.478598 14.626402 0.185436 0.130436\" preserveAspectRatio=\"xMinYMin meet\"><g transform=\"matrix(1,0,0,-1,0,29.38324)\"><path fill-rule=\"evenodd\" fill=\"#66cc99\" stroke=\"#555555\" stroke-width=\"0.00370872\" opacity=\"0.6\" d=\"M -17.46873,14.63327 L -17.47173,14.63327 L -17.47173,14.63787 L -17.47173,14.64397 L -17.47173,14.64727 L -17.47173,14.65127 L -17.47173,14.65717 L -17.47173,14.66507 L -17.47173,14.67297 L -17.47173,14.67727 L -17.47173,14.68277 L -17.47173,14.68637 L -17.47173,14.69277 L -17.47173,14.69727 L -17.47173,14.70117 L -17.47173,14.71527 L -17.47173,14.72657 L -17.47173,14.73217 L -17.47173,14.73957 L -17.47173,14.74497 L -17.47173,14.74997 L -17.30003,14.74997 L -17.30003,14.74107 L -17.30003,14.73057 L -17.30003,14.71867 L -17.30003,14.71227 L -17.30003,14.70907 L -17.30003,14.70317 L -17.30003,14.67707 L -17.30003,14.63327 L -17.33693,14.63327 L -17.39703,14.63327 L -17.41233,14.63327 L -17.41803,14.63327 L -17.42413,14.63327 L -17.43143,14.63327 L -17.45423,14.63327 L -17.46873,14.63327 z\" /></g></svg>"
      ],
      "text/plain": [
       "<shapely.geometry.polygon.Polygon at 0x106b411d0>"
      ]
     },
     "execution_count": 3,
     "metadata": {},
     "output_type": "execute_result"
    }
   ],
   "source": [
    "c = fiona.open('/Users/chambbj/Downloads/(U) Harbors_Beachfront_Apr2017/Harbors_Priority_Beachfront.shp')\n",
    "pol = next(iter(c))\n",
    "geom = shape(pol['geometry'])\n",
    "geom"
   ]
  },
  {
   "cell_type": "markdown",
   "metadata": {},
   "source": [
    "Create our GBDX interface."
   ]
  },
  {
   "cell_type": "code",
   "execution_count": 4,
   "metadata": {
    "collapsed": true
   },
   "outputs": [],
   "source": [
    "gbdx = Interface()"
   ]
  },
  {
   "cell_type": "markdown",
   "metadata": {},
   "source": [
    "Create a multipolygon of all the polys, but I don't appear to actually use this anywhere."
   ]
  },
  {
   "cell_type": "code",
   "execution_count": 5,
   "metadata": {
    "collapsed": true
   },
   "outputs": [],
   "source": [
    "Multi = MultiPolygon([shape(pol['geometry']) for pol in c])"
   ]
  },
  {
   "cell_type": "markdown",
   "metadata": {},
   "source": [
    "Show that we can get the WKT of the geometry."
   ]
  },
  {
   "cell_type": "code",
   "execution_count": 6,
   "metadata": {},
   "outputs": [
    {
     "data": {
      "text/plain": [
       "'POLYGON ((-17.46872999999994 14.63327000000004, -17.47172999999998 14.63327000000004, -17.47172999999998 14.63787000000008, -17.47172999999998 14.64397000000002, -17.47172999999998 14.64727000000005, -17.47172999999998 14.65127000000007, -17.47172999999998 14.65717000000006, -17.47172999999998 14.66507000000007, -17.47172999999998 14.67297000000008, -17.47172999999998 14.67727000000002, -17.47172999999998 14.68277000000006, -17.47172999999998 14.68637000000007, -17.47172999999998 14.69277000000005, -17.47172999999998 14.69727000000006, -17.47172999999998 14.70117000000005, -17.47172999999998 14.71527000000003, -17.47172999999998 14.72657000000004, -17.47172999999998 14.73217000000005, -17.47172999999998 14.73957000000007, -17.47172999999998 14.74497000000002, -17.47172999999998 14.74997000000008, -17.30002999999994 14.74997000000008, -17.30002999999994 14.74107000000004, -17.30002999999994 14.73057000000006, -17.30002999999994 14.71867000000003, -17.30002999999994 14.71227000000005, -17.30002999999994 14.70907000000005, -17.30002999999994 14.70317000000006, -17.30002999999994 14.67707000000007, -17.30002999999994 14.63327000000004, -17.33692999999994 14.63327000000004, -17.39702999999997 14.63327000000004, -17.41232999999994 14.63327000000004, -17.41802999999993 14.63327000000004, -17.42412999999993 14.63327000000004, -17.43142999999998 14.63327000000004, -17.45422999999994 14.63327000000004, -17.46872999999994 14.63327000000004))'"
      ]
     },
     "execution_count": 6,
     "metadata": {},
     "output_type": "execute_result"
    }
   ],
   "source": [
    "geom.wkt"
   ]
  },
  {
   "cell_type": "markdown",
   "metadata": {},
   "source": [
    "Create a filter (WV2 with cloud cover less than 10%), and search the catalog."
   ]
  },
  {
   "cell_type": "code",
   "execution_count": 7,
   "metadata": {},
   "outputs": [
    {
     "data": {
      "text/plain": [
       "91"
      ]
     },
     "execution_count": 7,
     "metadata": {},
     "output_type": "execute_result"
    }
   ],
   "source": [
    "filters = [\"cloudCover<10\"]\n",
    "types = [\"LandsatAcquisition\"]\n",
    "results = gbdx.catalog.search(searchAreaWkt=geom.wkt,filters=filters,types=types)\n",
    "len(results)"
   ]
  },
  {
   "cell_type": "markdown",
   "metadata": {},
   "source": [
    "Show that we can get the footprint WKT of the first result."
   ]
  },
  {
   "cell_type": "code",
   "execution_count": 8,
   "metadata": {},
   "outputs": [
    {
     "data": {
      "image/svg+xml": [
       "<svg xmlns=\"http://www.w3.org/2000/svg\" xmlns:xlink=\"http://www.w3.org/1999/xlink\" width=\"100.0\" height=\"100.0\" viewBox=\"-19.343674 13.308276 2.256058 2.285388\" preserveAspectRatio=\"xMinYMin meet\"><g transform=\"matrix(1,0,0,-1,0,28.90194)\"><g><path fill-rule=\"evenodd\" fill=\"#66cc99\" stroke=\"#555555\" stroke-width=\"0.04570776\" opacity=\"0.6\" d=\"M -19.25903,13.39292 L -19.25903,15.50902 L -17.17226,15.50902 L -17.17226,13.39292 L -19.25903,13.39292 z\" /></g></g></svg>"
      ],
      "text/plain": [
       "<shapely.geometry.multipolygon.MultiPolygon at 0x102586a10>"
      ]
     },
     "execution_count": 8,
     "metadata": {},
     "output_type": "execute_result"
    }
   ],
   "source": [
    "footprint = loads(results[1]['properties']['footprintWkt'])\n",
    "footprint"
   ]
  },
  {
   "cell_type": "markdown",
   "metadata": {},
   "source": [
    "Get a sense for how the footprint overlaps the query geometry. A percent overlap would be nice too."
   ]
  },
  {
   "cell_type": "code",
   "execution_count": 9,
   "metadata": {},
   "outputs": [
    {
     "data": {
      "image/svg+xml": [
       "<svg xmlns=\"http://www.w3.org/2000/svg\" xmlns:xlink=\"http://www.w3.org/1999/xlink\" width=\"100.0\" height=\"100.0\" viewBox=\"-19.343674 13.308276 2.256058 2.285388\" preserveAspectRatio=\"xMinYMin meet\"><g transform=\"matrix(1,0,0,-1,0,28.90194)\"><g><polyline fill=\"none\" stroke=\"#66cc99\" stroke-width=\"0.04570776\" points=\"-17.46873,14.63327 -17.47173,14.63327 -17.47173,14.63787 -17.47173,14.64397 -17.47173,14.64727 -17.47173,14.65127 -17.47173,14.65717 -17.47173,14.66507 -17.47173,14.67297 -17.47173,14.67727 -17.47173,14.68277 -17.47173,14.68637 -17.47173,14.69277 -17.47173,14.69727 -17.47173,14.70117 -17.47173,14.71527 -17.47173,14.72657 -17.47173,14.73217 -17.47173,14.73957 -17.47173,14.74497 -17.47173,14.74997 -17.30003,14.74997 -17.30003,14.74107 -17.30003,14.73057 -17.30003,14.71867 -17.30003,14.71227 -17.30003,14.70907 -17.30003,14.70317 -17.30003,14.67707 -17.30003,14.63327 -17.33693,14.63327 -17.39703,14.63327 -17.41233,14.63327 -17.41803,14.63327 -17.42413,14.63327 -17.43143,14.63327 -17.45423,14.63327 -17.46873,14.63327\" opacity=\"0.8\" /><polyline fill=\"none\" stroke=\"#66cc99\" stroke-width=\"0.04570776\" points=\"-19.25903,13.39292 -19.25903,15.50902 -17.17226,15.50902 -17.17226,13.39292 -19.25903,13.39292\" opacity=\"0.8\" /></g></g></svg>"
      ],
      "text/plain": [
       "<shapely.geometry.multilinestring.MultiLineString at 0x106b41c10>"
      ]
     },
     "execution_count": 9,
     "metadata": {},
     "output_type": "execute_result"
    }
   ],
   "source": [
    "geom.boundary.union(footprint.boundary)"
   ]
  },
  {
   "cell_type": "markdown",
   "metadata": {},
   "source": [
    "And just look at the acquisition metadata for the result."
   ]
  },
  {
   "cell_type": "code",
   "execution_count": 10,
   "metadata": {},
   "outputs": [
    {
     "data": {
      "text/plain": [
       "{u'identifier': u'LC82060502017020LGN00',\n",
       " u'properties': {u'browseURL': u'https://s3-us-west-2.amazonaws.com/landsat-pds/L8/206/050/LC82060502017020LGN00/LC82060502017020LGN00_thumb_large.jpg',\n",
       "  u'bucketName': u'landsat-pds',\n",
       "  u'bucketPrefix': u'L8/206/050/LC82060502017020LGN00',\n",
       "  u'catalogID': u'LC82060502017020LGN00',\n",
       "  u'cloudCover': 0,\n",
       "  u'footprintWkt': u'MULTIPOLYGON(((-19.25903 13.39292, -19.25903 15.50902, -17.17226 15.50902, -17.17226 13.39292, -19.25903 13.39292)))',\n",
       "  u'multiResolution': 30.0,\n",
       "  u'panResolution': 15.0,\n",
       "  u'path': 206,\n",
       "  u'platformName': u'LANDSAT08',\n",
       "  u'row': 50,\n",
       "  u'sensorPlatformName': u'LANDSAT08',\n",
       "  u'timestamp': u'2017-01-20T11:33:46.772Z',\n",
       "  u'vendor': u'Landsat'},\n",
       " u'type': [u'GBDXCatalogRecord',\n",
       "  u'Acquisition',\n",
       "  u'Landsat8',\n",
       "  u'LandsatAcquisition']}"
      ]
     },
     "execution_count": 10,
     "metadata": {},
     "output_type": "execute_result"
    }
   ],
   "source": [
    "results[1]"
   ]
  },
  {
   "cell_type": "markdown",
   "metadata": {},
   "source": [
    "Okay, now we actually get into creating and executing workflows. Here we will start by getting the lat/lon of the footprint centroid, and also the timestamp to be used in predicting tides. We continue by creating a workflow that automatically orders the data, applies atmospheric compensation via AOP, and the performs shoreline detection. We make sure to save the outputs of the final task."
   ]
  },
  {
   "cell_type": "code",
   "execution_count": 131,
   "metadata": {},
   "outputs": [
    {
     "name": "stdout",
     "output_type": "stream",
     "text": [
      "lat=14.737430, lon=-17.268643\n",
      "dtg=\"2009-12-11-11-41\"\n",
      "lat=\"14.7374302272\", lon=\"-17.2686430881\", dtg=\"2009-12-11-11-41\"\n"
     ]
    }
   ],
   "source": [
    "cat_id = results[1]['identifier']\n",
    "record = gbdx.catalog.get(cat_id)\n",
    "centroid = loads(record.get('properties').get('footprintWkt')).centroid\n",
    "lat = centroid.y\n",
    "lon = centroid.x\n",
    "print('lat=%f, lon=%f' % (lat, lon))\n",
    "timestamp = dateutil.parser.parse(record.get('properties').get('timestamp'))\n",
    "dtg = datetime.strftime(timestamp, '%Y-%m-%d-%H-%M')\n",
    "print('dtg=\"%s\"' % dtg)\n",
    "print('lat=\"%s\", lon=\"%s\", dtg=\"%s\"' % (str(lat), str(lon), dtg))\n",
    "ordertask = gbdx.Task('Auto_Ordering', cat_id=cat_id)\n",
    "ordertask.impersonation_allowed = True\n",
    "\n",
    "aoptask = gbdx.Task('AOP_Strip_Processor',\n",
    "                 data=ordertask.outputs.s3_location.value,\n",
    "                 bands='MS',\n",
    "                 enable_dra=False,\n",
    "                 enable_pansharpen=False,\n",
    "                 enable_acomp=True,\n",
    "                 ortho_epsg='UTM')\n",
    "\n",
    "tide_task = gbdx.Task('ShorelineDetection_beta',\n",
    "                      lat = str(lat),\n",
    "                      lon = str(lon),\n",
    "                      dtg = dtg,\n",
    "                      meta = json.dumps(results[1]),\n",
    "                      image = aoptask.outputs.data.value)\n",
    "\n",
    "workflow = gbdx.Workflow([ordertask, aoptask, tide_task])\n",
    "random_str = str(uuid.uuid4())\n",
    "workflow.savedata(tide_task.outputs.results, location=join('some_random_folder', random_str))"
   ]
  },
  {
   "cell_type": "markdown",
   "metadata": {},
   "source": [
    "Execute the workflow."
   ]
  },
  {
   "cell_type": "code",
   "execution_count": 133,
   "metadata": {},
   "outputs": [
    {
     "data": {
      "text/plain": [
       "u'4649123387300274527'"
      ]
     },
     "execution_count": 133,
     "metadata": {},
     "output_type": "execute_result"
    }
   ],
   "source": [
    "workflow.execute()"
   ]
  },
  {
   "cell_type": "markdown",
   "metadata": {},
   "source": [
    "And view the definition for kicks."
   ]
  },
  {
   "cell_type": "code",
   "execution_count": 135,
   "metadata": {},
   "outputs": [
    {
     "data": {
      "text/plain": [
       "{'name': u'63ed74ce',\n",
       " 'tasks': [{'containerDescriptors': [{'properties': {'domain': 'default'}}],\n",
       "   'impersonation_allowed': True,\n",
       "   'inputs': [{'name': u'cat_id', 'value': u'103001000347F400'}],\n",
       "   'name': u'Auto_Ordering_b8979ccd',\n",
       "   'outputs': [{'name': u's3_location'}],\n",
       "   'taskType': 'Auto_Ordering',\n",
       "   'timeout': 172800},\n",
       "  {'containerDescriptors': [{'properties': {'domain': u'raid'}}],\n",
       "   'inputs': [{'name': u'enable_dra', 'value': 'false'},\n",
       "    {'name': u'bands', 'value': 'MS'},\n",
       "    {'name': u'enable_acomp', 'value': 'true'},\n",
       "    {'name': u'ortho_epsg', 'value': 'UTM'},\n",
       "    {'name': u'enable_pansharpen', 'value': 'false'},\n",
       "    {'name': u'data', 'source': u'Auto_Ordering_b8979ccd:s3_location'}],\n",
       "   'name': u'AOP_Strip_Processor_8586300d',\n",
       "   'outputs': [{'name': u'data'}, {'name': u'log'}],\n",
       "   'taskType': 'AOP_Strip_Processor',\n",
       "   'timeout': 36000},\n",
       "  {'containerDescriptors': [{'properties': {'domain': 'default'}}],\n",
       "   'inputs': [{'name': u'lon', 'value': '-17.2686430881'},\n",
       "    {'name': u'image', 'source': u'AOP_Strip_Processor_8586300d:data'},\n",
       "    {'name': u'dtg', 'value': '2009-12-11-11-41'},\n",
       "    {'name': u'meta',\n",
       "     'value': '{\"identifier\": \"103001000347F400\", \"type\": [\"GBDXCatalogRecord\", \"Acquisition\", \"DigitalGlobeAcquisition\", \"WV02\"], \"properties\": {\"offNadirAngle_min\": 15.123083114624, \"offNadirAngle_start\": 15.2719287872315, \"cloudCover\": 6, \"sunAzimuth_max\": 152.177734375, \"vendor\": \"DigitalGlobe\", \"multiResolution\": 1.97392213344574, \"catalogID\": \"103001000347F400\", \"targetAzimuth_min\": 251.670669555664, \"browseURL\": \"https://geobigdata.io/thumbnails/v1/browse/103001000347F400.large.png\", \"scanDirection\": \"Forward\", \"targetAzimuth_max\": 255.886734008789, \"sunAzimuth\": 152.08544921875, \"sunElevation_min\": 47.323974609375, \"offNadirAngle\": 15.1905717849731, \"stereoPair\": null, \"platformName\": \"WORLDVIEW02\", \"multiResolution_start\": 1.97512292861938, \"sunElevation\": 47.5085258483887, \"targetAzimuth\": 253.738052368164, \"panResolution_max\": 0.493680655956268, \"panResolution_end\": 0.4930160343647, \"timestamp\": \"2009-12-11T11:41:56.757Z\", \"targetAzimuth_end\": 251.670669555664, \"panResolution_min\": 0.4930160343647, \"offNadirAngle_end\": 15.123083114624, \"multiResolution_end\": 1.97252249717712, \"sensorPlatformName\": \"WORLDVIEW02\", \"multiResolution_min\": 1.97252249717712, \"sunElevation_max\": 47.6849212646484, \"panResolution_start\": 0.493680655956268, \"panResolution\": 0.493373066186905, \"footprintWkt\": \"MULTIPOLYGON(((-17.3514312 14.92230171, -17.18582416 14.92829376, -17.18585252 14.88465988, -17.18588241 14.84102102, -17.18590026 14.79735758, -17.18592754 14.75369113, -17.18604233 14.70999666, -17.18613234 14.66630565, -17.1861788 14.62262483, -17.18621993 14.57894497, -17.18625175 14.55255822, -17.35104628 14.5459354, -17.3510685 14.57226729, -17.35111791 14.6160304, -17.35116979 14.65979396, -17.35121525 14.70355694, -17.35122556 14.74732731, -17.35126496 14.79108787, -17.35131674 14.83484626, -17.35136975 14.87857729, -17.3514312 14.92230171)))\", \"sunAzimuth_min\": 151.996643066406, \"targetAzimuth_start\": 255.886734008789, \"imageBands\": \"PAN_MS1_MS2\", \"offNadirAngle_max\": 15.2719287872315, \"multiResolution_max\": 1.97512292861938}}'},\n",
       "    {'name': u'lat', 'value': '14.7374302272'}],\n",
       "   'name': u'ShorelineDetection_beta_a8cfbb3e',\n",
       "   'outputs': [{'name': u'results',\n",
       "     'persist': True,\n",
       "     'persistLocation': 'some_random_folder/31e139b3-d0f7-470b-8637-a6b970a41f96'}],\n",
       "   'taskType': 'ShorelineDetection_beta',\n",
       "   'timeout': 7200}]}"
      ]
     },
     "execution_count": 135,
     "metadata": {},
     "output_type": "execute_result"
    }
   ],
   "source": [
    "workflow.definition"
   ]
  },
  {
   "cell_type": "markdown",
   "metadata": {},
   "source": [
    "We can loop until the workflow shows up as complete."
   ]
  },
  {
   "cell_type": "code",
   "execution_count": null,
   "metadata": {
    "collapsed": true
   },
   "outputs": [],
   "source": [
    "while not workflow.status.get('state') == u'complete':\n",
    "    print(json.dumps(workflow.events), end='\\r')\n",
    "#     print(datetime.now(), workflow.status, end='\\r')\n",
    "    sys.stdout.flush()\n",
    "    time.sleep(5.0)\n",
    "workflow.status"
   ]
  },
  {
   "cell_type": "markdown",
   "metadata": {},
   "source": [
    "Download the shoreline result."
   ]
  },
  {
   "cell_type": "code",
   "execution_count": 117,
   "metadata": {
    "collapsed": true
   },
   "outputs": [],
   "source": [
    "gbdx.s3.download(join('some_random_folder', random_str))"
   ]
  },
  {
   "cell_type": "markdown",
   "metadata": {},
   "source": [
    "This notebook needs lots of cleaning up. The following chunk will be used to run only ACOMP, such that we can test this workflow locally too."
   ]
  },
  {
   "cell_type": "code",
   "execution_count": 118,
   "metadata": {},
   "outputs": [
    {
     "name": "stdout",
     "output_type": "stream",
     "text": [
      "lat=14.737430, lon=-17.268643\n",
      "dtg=\"2009-12-11-11-41\"\n",
      "lat=\"14.7374302272\", lon=\"-17.2686430881\", dtg=\"2009-12-11-11-41\"\n",
      "6fe837c1-dd7d-442c-abda-aa9edbe93c8c\n"
     ]
    }
   ],
   "source": [
    "cat_id = results[1]['identifier']\n",
    "record = gbdx.catalog.get(cat_id)\n",
    "centroid = loads(record.get('properties').get('footprintWkt')).centroid\n",
    "lat = centroid.y\n",
    "lon = centroid.x\n",
    "print('lat=%f, lon=%f' % (lat, lon))\n",
    "timestamp = dateutil.parser.parse(record.get('properties').get('timestamp'))\n",
    "dtg = datetime.strftime(timestamp, '%Y-%m-%d-%H-%M')\n",
    "print('dtg=\"%s\"' % dtg)\n",
    "print('lat=\"%s\", lon=\"%s\", dtg=\"%s\"' % (str(lat), str(lon), dtg))\n",
    "ordertask = gbdx.Task('Auto_Ordering', cat_id=cat_id)\n",
    "ordertask.impersonation_allowed = True\n",
    "\n",
    "aoptask = gbdx.Task('AOP_Strip_Processor',\n",
    "                 data=ordertask.outputs.s3_location.value,\n",
    "                 bands='MS',\n",
    "                 enable_dra=False,\n",
    "                 enable_pansharpen=False,\n",
    "                 enable_acomp=True,\n",
    "                 ortho_epsg='UTM')\n",
    "\n",
    "workflow = gbdx.Workflow([ordertask, aoptask])\n",
    "random_str = str(uuid.uuid4())\n",
    "print(random_str)\n",
    "workflow.savedata(aoptask.outputs.data, location=join('acomp-only-testing', random_str))"
   ]
  },
  {
   "cell_type": "markdown",
   "metadata": {},
   "source": [
    "Execute the ACOMP."
   ]
  },
  {
   "cell_type": "code",
   "execution_count": 120,
   "metadata": {},
   "outputs": [
    {
     "name": "stdout",
     "output_type": "stream",
     "text": [
      "[{\"task\": \"Auto_Ordering_1975dc0b\", \"task_id\": \"4648991738082326025\", \"timestamp\": \"2017-07-24T14:16:42.264189+00:00\", \"when\": \"19 minutes ago\", \"note\": \"\", \"state\": \"pending\", \"event\": \"submitted\"}, {\"task\": \"AOP_Strip_Processor_b3ef9867\", \"task_id\": \"4648991738090786724\", \"timestamp\": \"2017-07-24T14:16:42.268175+00:00\", \"when\": \"19 minutes ago\", \"note\": \"\", \"state\": \"pending\", \"event\": \"submitted\"}, {\"task\": \"Auto_Ordering_1975dc0b\", \"task_id\": \"4648991738082326025\", \"timestamp\": \"2017-07-24T14:16:57.940120+00:00\", \"when\": \"19 minutes ago\", \"note\": \"instance_id: i-c92fa74a\", \"state\": \"pending\", \"event\": \"scheduled\"}, {\"task\": \"Auto_Ordering_1975dc0b\", \"task_id\": \"4648991738082326025\", \"timestamp\": \"2017-07-24T14:16:58.511701+00:00\", \"when\": \"19 minutes ago\", \"note\": \"instance_id: i-08463f0c4314727db, domain: default\", \"state\": \"running\", \"event\": \"started\"}, {\"task\": \"Auto_Ordering_1975dc0b\", \"task_id\": \"4648991738082326025\", \"timestamp\": \"2017-07-24T14:17:34.620864+00:00\", \"when\": \"19 minutes ago\", \"note\": \"instance_id: i-08463f0c4314727db,  Note: Order Already Delivered. Location: s3://receiving-dgcs-tdgplatform-com/056715369010_01_003\", \"state\": \"complete\", \"event\": \"succeeded\"}, {\"task\": \"AOP_Strip_Processor_b3ef9867\", \"task_id\": \"4648991738090786724\", \"timestamp\": \"2017-07-24T14:17:48.497471+00:00\", \"when\": \"18 minutes ago\", \"note\": \"instance_id: i-c92fa74a\", \"state\": \"pending\", \"event\": \"scheduled\"}, {\"task\": \"AOP_Strip_Processor_b3ef9867\", \"task_id\": \"4648991738090786724\", \"timestamp\": \"2017-07-24T14:17:48.873336+00:00\", \"when\": \"18 minutes ago\", \"note\": \"instance_id: i-0ff16f80ae7aabaac, domain: raid\", \"state\": \"running\", \"event\": \"started\"}]\r"
     ]
    },
    {
     "data": {
      "text/plain": [
       "{u'event': u'succeeded', u'state': u'complete'}"
      ]
     },
     "execution_count": 120,
     "metadata": {},
     "output_type": "execute_result"
    }
   ],
   "source": [
    "workflow.execute()\n",
    "while not workflow.status.get('state') == u'complete':\n",
    "    print(json.dumps(workflow.events), end='\\r')\n",
    "#     print(datetime.now(), workflow.status, end='\\r')\n",
    "    sys.stdout.flush()\n",
    "    time.sleep(5.0)\n",
    "workflow.status"
   ]
  },
  {
   "cell_type": "markdown",
   "metadata": {},
   "source": [
    "Grab the URL of the ACOMP raster output."
   ]
  },
  {
   "cell_type": "code",
   "execution_count": 126,
   "metadata": {
    "collapsed": true
   },
   "outputs": [],
   "source": [
    "aopraster = 's3://gbd-customer-data/a6308131-a55f-4f07-a436-68502f273a9f/acomp-only-testing/6fe837c1-dd7d-442c-abda-aa9edbe93c8c/'"
   ]
  },
  {
   "cell_type": "markdown",
   "metadata": {},
   "source": [
    "Now execute a workflow that cuts out auto order and AOP steps, using precomputed result."
   ]
  },
  {
   "cell_type": "code",
   "execution_count": 137,
   "metadata": {},
   "outputs": [
    {
     "name": "stdout",
     "output_type": "stream",
     "text": [
      "lat=14.737430, lon=-17.268643\n",
      "dtg=\"2009-12-11-11-41\"\n",
      "lat=\"14.7374302272\", lon=\"-17.2686430881\", dtg=\"2009-12-11-11-41\"\n"
     ]
    }
   ],
   "source": [
    "cat_id = results[1]['identifier']\n",
    "record = gbdx.catalog.get(cat_id)\n",
    "centroid = loads(record.get('properties').get('footprintWkt')).centroid\n",
    "lat = centroid.y\n",
    "lon = centroid.x\n",
    "print('lat=%f, lon=%f' % (lat, lon))\n",
    "timestamp = dateutil.parser.parse(record.get('properties').get('timestamp'))\n",
    "dtg = datetime.strftime(timestamp, '%Y-%m-%d-%H-%M')\n",
    "print('dtg=\"%s\"' % dtg)\n",
    "print('lat=\"%s\", lon=\"%s\", dtg=\"%s\"' % (str(lat), str(lon), dtg))\n",
    "\n",
    "tide_task = gbdx.Task('ShorelineDetection_beta',\n",
    "                      lat = str(lat),\n",
    "                      lon = str(lon),\n",
    "                      dtg = dtg,\n",
    "                      meta = json.dumps(results[1]),\n",
    "                      minsize = '1000.0',\n",
    "                      smooth = '0.8',\n",
    "                      image = aopraster)\n",
    "\n",
    "workflow = gbdx.Workflow([tide_task])\n",
    "random_str = str(uuid.uuid4())\n",
    "workflow.savedata(tide_task.outputs.vector, location=join('shoreline-tests', random_str))"
   ]
  },
  {
   "cell_type": "markdown",
   "metadata": {},
   "source": [
    "Execute."
   ]
  },
  {
   "cell_type": "code",
   "execution_count": 138,
   "metadata": {},
   "outputs": [
    {
     "name": "stdout",
     "output_type": "stream",
     "text": [
      "[{\"task\": \"ShorelineDetection_beta_8184557c\", \"task_id\": \"4649142211615709556\", \"timestamp\": \"2017-07-24T19:15:40.082004+00:00\", \"when\": \"3 minutes ago\", \"note\": \"\", \"state\": \"pending\", \"event\": \"submitted\"}, {\"task\": \"ShorelineDetection_beta_8184557c\", \"task_id\": \"4649142211615709556\", \"timestamp\": \"2017-07-24T19:15:56.838067+00:00\", \"when\": \"3 minutes ago\", \"note\": \"instance_id: i-c92fa74a\", \"state\": \"pending\", \"event\": \"scheduled\"}, {\"task\": \"ShorelineDetection_beta_8184557c\", \"task_id\": \"4649142211615709556\", \"timestamp\": \"2017-07-24T19:15:57.366285+00:00\", \"when\": \"3 minutes ago\", \"note\": \"instance_id: i-0856243755a9343ba, domain: default\", \"state\": \"running\", \"event\": \"started\"}]\r"
     ]
    },
    {
     "data": {
      "text/plain": [
       "{u'event': u'succeeded', u'state': u'complete'}"
      ]
     },
     "execution_count": 138,
     "metadata": {},
     "output_type": "execute_result"
    }
   ],
   "source": [
    "workflow.execute()\n",
    "while not workflow.status.get('state') == u'complete':\n",
    "    print(json.dumps(workflow.events), end='\\r')\n",
    "#     print(datetime.now(), workflow.status, end='\\r')\n",
    "    sys.stdout.flush()\n",
    "    time.sleep(5.0)\n",
    "workflow.status"
   ]
  },
  {
   "cell_type": "markdown",
   "metadata": {},
   "source": [
    "for AF test"
   ]
  },
  {
   "cell_type": "code",
   "execution_count": 142,
   "metadata": {},
   "outputs": [
    {
     "data": {
      "text/plain": [
       "u'4649159657153601513'"
      ]
     },
     "execution_count": 142,
     "metadata": {},
     "output_type": "execute_result"
    }
   ],
   "source": [
    "ordertask = gbdx.Task('Auto_Ordering', cat_id=cat_id)\n",
    "ordertask.impersonation_allowed = True\n",
    "\n",
    "aoptask = gbdx.Task('AOP_Strip_Processor',\n",
    "                 data=ordertask.outputs.s3_location.value,\n",
    "                 bands='MS',\n",
    "                 enable_dra=False,\n",
    "                 enable_pansharpen=False,\n",
    "                 enable_acomp=True,\n",
    "                 ortho_epsg='UTM')\n",
    "\n",
    "tide_task = gbdx.Task('ShorelineDetection_beta',\n",
    "                      lat = str(lat),\n",
    "                      lon = str(lon),\n",
    "                      dtg = dtg,\n",
    "                      meta = json.dumps(results[1]),\n",
    "                      image = aoptask.outputs.data.value)\n",
    "\n",
    "workflow = gbdx.Workflow([ordertask, aoptask, tide_task])\n",
    "random_str = str(uuid.uuid4())\n",
    "workflow.savedata(tide_task.outputs.vector, location=join('some_random_folder', random_str))\n",
    "workflow.execute()"
   ]
  }
 ],
 "metadata": {
  "kernelspec": {
   "display_name": "Python 2",
   "language": "python",
   "name": "python2"
  },
  "language_info": {
   "codemirror_mode": {
    "name": "ipython",
    "version": 2
   },
   "file_extension": ".py",
   "mimetype": "text/x-python",
   "name": "python",
   "nbconvert_exporter": "python",
   "pygments_lexer": "ipython2",
   "version": "2.7.13"
  }
 },
 "nbformat": 4,
 "nbformat_minor": 2
}
