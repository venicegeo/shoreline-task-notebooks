{
 "cells": [
  {
   "cell_type": "markdown",
   "metadata": {},
   "source": [
    "# Tide Prediction Task\n",
    "\n",
    "Start with some imports."
   ]
  },
  {
   "cell_type": "code",
   "execution_count": 1,
   "metadata": {
    "collapsed": true
   },
   "outputs": [],
   "source": [
    "from gbdxtools import Interface\n",
    "from shapely.wkt import loads\n",
    "import dateutil.parser\n",
    "from datetime import datetime"
   ]
  },
  {
   "cell_type": "markdown",
   "metadata": {},
   "source": [
    "Create a GBDX interface."
   ]
  },
  {
   "cell_type": "code",
   "execution_count": 2,
   "metadata": {
    "collapsed": true
   },
   "outputs": [],
   "source": [
    "gbdx = Interface()"
   ]
  },
  {
   "cell_type": "markdown",
   "metadata": {},
   "source": [
    "Start with a catalog ID (this is some image of the Palm Islands in Dubai)."
   ]
  },
  {
   "cell_type": "code",
   "execution_count": 3,
   "metadata": {
    "collapsed": true
   },
   "outputs": [],
   "source": [
    "cat_id = '103001000349F800'"
   ]
  },
  {
   "cell_type": "markdown",
   "metadata": {},
   "source": [
    "Get metadata record for parsing of footprint WKT and timestamp."
   ]
  },
  {
   "cell_type": "code",
   "execution_count": 4,
   "metadata": {
    "collapsed": true
   },
   "outputs": [],
   "source": [
    "record = gbdx.catalog.get(cat_id)"
   ]
  },
  {
   "cell_type": "markdown",
   "metadata": {},
   "source": [
    "Get the centroid of the footprint."
   ]
  },
  {
   "cell_type": "code",
   "execution_count": 5,
   "metadata": {
    "collapsed": true
   },
   "outputs": [],
   "source": [
    "centroid = loads(record.get('properties').get('footprintWkt')).centroid"
   ]
  },
  {
   "cell_type": "markdown",
   "metadata": {},
   "source": [
    "The latitude corresponds to `y` and longitude corresponds to `x`."
   ]
  },
  {
   "cell_type": "code",
   "execution_count": 6,
   "metadata": {},
   "outputs": [
    {
     "name": "stdout",
     "output_type": "stream",
     "text": [
      "lat=25.113527, lon=55.133696\n"
     ]
    }
   ],
   "source": [
    "lat = centroid.y\n",
    "lon = centroid.x\n",
    "print('lat=%f, lon=%f' % (lat, lon))"
   ]
  },
  {
   "cell_type": "markdown",
   "metadata": {},
   "source": [
    "Next, we get the timestamp of the image."
   ]
  },
  {
   "cell_type": "code",
   "execution_count": 7,
   "metadata": {
    "collapsed": true
   },
   "outputs": [],
   "source": [
    "timestamp = dateutil.parser.parse(record.get('properties').get('timestamp'))"
   ]
  },
  {
   "cell_type": "markdown",
   "metadata": {},
   "source": [
    "The timestamp is converted to the date time group format that the tide prediction algorithm expects (Y-m-d-H-M)."
   ]
  },
  {
   "cell_type": "code",
   "execution_count": 8,
   "metadata": {
    "collapsed": true
   },
   "outputs": [],
   "source": [
    "dtg = datetime.strftime(timestamp, '%Y-%m-%d-%H-%M')"
   ]
  },
  {
   "cell_type": "code",
   "execution_count": 9,
   "metadata": {},
   "outputs": [
    {
     "name": "stdout",
     "output_type": "stream",
     "text": [
      "dtg=\"2010-01-12-07-12\"\n"
     ]
    }
   ],
   "source": [
    "print('dtg=\"%s\"' % dtg)"
   ]
  },
  {
   "cell_type": "markdown",
   "metadata": {
    "collapsed": true
   },
   "source": [
    "At this point, we'd like to call the task with"
   ]
  },
  {
   "cell_type": "code",
   "execution_count": 10,
   "metadata": {},
   "outputs": [
    {
     "name": "stdout",
     "output_type": "stream",
     "text": [
      "lat=\"25.1135269383\", lon=\"55.1336961813\", dtg=\"2010-01-12-07-12\"\n"
     ]
    }
   ],
   "source": [
    "print('lat=\"%s\", lon=\"%s\", dtg=\"%s\"' % (str(lat), str(lon), dtg))"
   ]
  },
  {
   "cell_type": "markdown",
   "metadata": {},
   "source": [
    "and receive an output like\n",
    "\n",
    "```json\n",
    "{\n",
    "  \"minimumTide24Hours\":null,\n",
    "  \"maximumTide24Hours\":null,\n",
    "  \"currentTide\":null\n",
    "}\n",
    "```"
   ]
  },
  {
   "cell_type": "markdown",
   "metadata": {},
   "source": [
    "We have currently implemented tide prediction using a modified version of bf-tideprediction (just without the flask wrapper for endpoints). The image `chambbj/hello-gbdx` v0.0.9 is available as GBDX task `hello-gbdx-chambbj`. It takes the aforementioned lat, lon, dtg all as strings."
   ]
  },
  {
   "cell_type": "code",
   "execution_count": 339,
   "metadata": {
    "collapsed": true
   },
   "outputs": [],
   "source": [
    "# tide_task = gbdx.Task('bf-tideprediction-gbdx')\n",
    "tide_task = gbdx.Task('hello-gbdx-chambbj')\n",
    "tide_task.inputs.lat = str(lat)\n",
    "tide_task.inputs.lon = str(lon)\n",
    "tide_task.inputs.dtg = dtg"
   ]
  },
  {
   "cell_type": "markdown",
   "metadata": {},
   "source": [
    "The tide prediction json file will be saved to `/mnt/work/output/json` and is persisted to `some_new_folder` within my user bucket/prefix on S3."
   ]
  },
  {
   "cell_type": "code",
   "execution_count": 340,
   "metadata": {},
   "outputs": [
    {
     "data": {
      "text/plain": [
       "{u'event': u'submitted', u'state': u'pending'}"
      ]
     },
     "execution_count": 340,
     "metadata": {},
     "output_type": "execute_result"
    }
   ],
   "source": [
    "import uuid\n",
    "from os.path import join\n",
    "workflow = gbdx.Workflow([tide_task])\n",
    "random_str = str(uuid.uuid4())\n",
    "workflow.savedata(tide_task.outputs.json, location=join('some_random_folder', random_str))\n",
    "workflow.execute()\n",
    "workflow.status"
   ]
  },
  {
   "cell_type": "markdown",
   "metadata": {},
   "source": [
    "Check periodically for status `complete`."
   ]
  },
  {
   "cell_type": "code",
   "execution_count": 341,
   "metadata": {},
   "outputs": [
    {
     "data": {
      "text/plain": [
       "{u'event': u'succeeded', u'state': u'complete'}"
      ]
     },
     "execution_count": 341,
     "metadata": {},
     "output_type": "execute_result"
    }
   ],
   "source": [
    "import time\n",
    "while not workflow.status.get('state') == u'complete':\n",
    "    time.sleep(1.0)\n",
    "workflow.status"
   ]
  },
  {
   "cell_type": "markdown",
   "metadata": {},
   "source": [
    "And download the result. Yes, we could display it here, but this is good enough."
   ]
  },
  {
   "cell_type": "code",
   "execution_count": 342,
   "metadata": {
    "collapsed": true
   },
   "outputs": [],
   "source": [
    "gbdx.s3.download(join('some_random_folder', random_str))"
   ]
  },
  {
   "cell_type": "markdown",
   "metadata": {},
   "source": [
    "The tides.json file is now in the local directory."
   ]
  },
  {
   "cell_type": "code",
   "execution_count": 306,
   "metadata": {},
   "outputs": [
    {
     "name": "stdout",
     "output_type": "stream",
     "text": [
      "some_random_folder/f0bf6dc6-9585-49c3-9344-976be4a43f02\n"
     ]
    }
   ],
   "source": [
    "print(join('some_random_folder', random_str))"
   ]
  },
  {
   "cell_type": "code",
   "execution_count": 343,
   "metadata": {},
   "outputs": [
    {
     "data": {
      "text/plain": [
       "[{u'event': u'submitted',\n",
       "  u'note': u'',\n",
       "  u'state': u'pending',\n",
       "  u'task': u'hello-gbdx-chambbj_a55ea5b2',\n",
       "  u'task_id': u'4623813900506692963',\n",
       "  u'timestamp': u'2017-06-19T20:32:50.106084+00:00',\n",
       "  u'when': u'3 minutes ago'},\n",
       " {u'event': u'scheduled',\n",
       "  u'note': u'instance_id: i-c92fa74a',\n",
       "  u'state': u'pending',\n",
       "  u'task': u'hello-gbdx-chambbj_a55ea5b2',\n",
       "  u'task_id': u'4623813900506692963',\n",
       "  u'timestamp': u'2017-06-19T20:33:02.246718+00:00',\n",
       "  u'when': u'2 minutes ago'},\n",
       " {u'event': u'started',\n",
       "  u'note': u'instance_id: i-0c8535edb286159fa, domain: default',\n",
       "  u'state': u'running',\n",
       "  u'task': u'hello-gbdx-chambbj_a55ea5b2',\n",
       "  u'task_id': u'4623813900506692963',\n",
       "  u'timestamp': u'2017-06-19T20:33:02.754114+00:00',\n",
       "  u'when': u'2 minutes ago'},\n",
       " {u'event': u'succeeded',\n",
       "  u'note': u'instance_id: i-0c8535edb286159fa,  Note: ',\n",
       "  u'state': u'complete',\n",
       "  u'task': u'hello-gbdx-chambbj_a55ea5b2',\n",
       "  u'task_id': u'4623813900506692963',\n",
       "  u'timestamp': u'2017-06-19T20:34:43.574396+00:00',\n",
       "  u'when': u'a minute ago'}]"
      ]
     },
     "execution_count": 343,
     "metadata": {},
     "output_type": "execute_result"
    }
   ],
   "source": [
    "workflow.events"
   ]
  },
  {
   "cell_type": "code",
   "execution_count": 344,
   "metadata": {},
   "outputs": [
    {
     "data": {
      "text/plain": [
       "[{'id': u'4623813900506692963',\n",
       "  'name': u'hello-gbdx-chambbj_a55ea5b2',\n",
       "  'stdout': u'<15>1 2017-06-19T20:34:28.665229Z 9dca1186b1e1 beachfront 16 - (beachfront.logger:init_logger) DEBUG Initialized logger\\nusage: bfalg-ndwi [-h] -i INPUT [-b BANDS BANDS] [--outdir OUTDIR]\\n                  [--basename BASENAME] [--l8bqa L8BQA] [--coastmask]\\n                  [--minsize MINSIZE] [--close CLOSE] [--simple SIMPLE]\\n                  [--smooth SMOOTH] [--verbose VERBOSE] [--version]\\n\\nBeachfront Algorithm: NDWI (v1.0.3)\\n\\noptional arguments:\\n  -h, --help            show this help message and exit\\n  -i INPUT, --input INPUT\\n                        Input image (1 or 2 files) (default: None)\\n  -b BANDS BANDS, --bands BANDS BANDS\\n                        Band numbers for Green and NIR bands (default: [1, 1])\\n  --outdir OUTDIR       Save intermediate files to this dir (otherwise temp)\\n                        (default: )\\n  --basename BASENAME   Basename to give to output files (no extension,\\n                        defaults to first input filename (default: None)\\n  --l8bqa L8BQA         Landat 8 Quality band (used to mask clouds) (default:\\n                        None)\\n  --coastmask           Mask non-coastline areas (default: False)\\n  --minsize MINSIZE     Minimum coastline size (default: 100.0)\\n  --close CLOSE         Close line strings within given pixels (default: 5)\\n  --simple SIMPLE       Simplify using tolerance in map units (default: None)\\n  --smooth SMOOTH       Smoothing from 0 (none) to 1.33 (no corners (default:\\n                        0.0)\\n  --verbose VERBOSE     0: Quiet, 1: Debug, 2: Info, 3: Warn, 4: Error, 5:\\n                        Critical (default: 2)\\n  --version             Print version and exit\\n',\n",
       "  'taskType': u'hello-gbdx-chambbj:0.0.21'}]"
      ]
     },
     "execution_count": 344,
     "metadata": {},
     "output_type": "execute_result"
    }
   ],
   "source": [
    "workflow.stdout"
   ]
  },
  {
   "cell_type": "code",
   "execution_count": 346,
   "metadata": {},
   "outputs": [],
   "source": [
    "order_id = gbdx.ordering.order(cat_id)"
   ]
  },
  {
   "cell_type": "code",
   "execution_count": 348,
   "metadata": {},
   "outputs": [
    {
     "data": {
      "text/plain": [
       "[{u'acquisition_id': u'103001000349F800',\n",
       "  u'location': u's3://receiving-dgcs-tdgplatform-com/056215432010_01_003',\n",
       "  u'state': u'delivered'}]"
      ]
     },
     "execution_count": 348,
     "metadata": {},
     "output_type": "execute_result"
    }
   ],
   "source": [
    "gbdx.ordering.status(order_id)"
   ]
  },
  {
   "cell_type": "code",
   "execution_count": 349,
   "metadata": {},
   "outputs": [
    {
     "data": {
      "text/plain": [
       "u's3://receiving-dgcs-tdgplatform-com/056215432010_01_003'"
      ]
     },
     "execution_count": 349,
     "metadata": {},
     "output_type": "execute_result"
    }
   ],
   "source": [
    "gbdx.catalog.get_data_location(cat_id)"
   ]
  },
  {
   "cell_type": "code",
   "execution_count": 352,
   "metadata": {},
   "outputs": [
    {
     "data": {
      "text/plain": [
       "u'4624261907042177904'"
      ]
     },
     "execution_count": 352,
     "metadata": {},
     "output_type": "execute_result"
    }
   ],
   "source": [
    "# multispectral \n",
    "aop1 = gbdx.Task('AOP_Strip_Processor',\n",
    "                 data=gbdx.catalog.get_data_location(cat_id),\n",
    "                 bands='MS',\n",
    "                 enable_dra=False,\n",
    "                 enable_pansharpen=False,\n",
    "                 enable_acomp=True,\n",
    "                 ortho_epsg='UTM')\n",
    "\n",
    "wf = gbdx.Workflow([aop1])\n",
    "\n",
    "random_str = str(uuid.uuid4())\n",
    "wf.savedata(aop1.outputs.data, location=join('some_random_folder', random_str))\n",
    "wf.execute()"
   ]
  },
  {
   "cell_type": "code",
   "execution_count": 369,
   "metadata": {},
   "outputs": [
    {
     "data": {
      "text/plain": [
       "{u'event': u'succeeded', u'state': u'complete'}"
      ]
     },
     "execution_count": 369,
     "metadata": {},
     "output_type": "execute_result"
    }
   ],
   "source": [
    "wf.status"
   ]
  },
  {
   "cell_type": "code",
   "execution_count": 372,
   "metadata": {},
   "outputs": [
    {
     "data": {
      "text/plain": [
       "'69ca3c34-a4bb-4f9f-9e81-2bd839c3af34'"
      ]
     },
     "execution_count": 372,
     "metadata": {},
     "output_type": "execute_result"
    }
   ],
   "source": [
    "random_str"
   ]
  }
 ],
 "metadata": {
  "kernelspec": {
   "display_name": "Python 2",
   "language": "python",
   "name": "python2"
  },
  "language_info": {
   "codemirror_mode": {
    "name": "ipython",
    "version": 2
   },
   "file_extension": ".py",
   "mimetype": "text/x-python",
   "name": "python",
   "nbconvert_exporter": "python",
   "pygments_lexer": "ipython2",
   "version": "2.7.13"
  }
 },
 "nbformat": 4,
 "nbformat_minor": 2
}
